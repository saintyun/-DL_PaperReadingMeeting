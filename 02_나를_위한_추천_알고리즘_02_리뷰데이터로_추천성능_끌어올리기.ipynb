{
  "nbformat": 4,
  "nbformat_minor": 0,
  "metadata": {
    "colab": {
      "provenance": [],
      "include_colab_link": true
    },
    "kernelspec": {
      "name": "python3",
      "display_name": "Python 3"
    },
    "accelerator": "GPU",
    "widgets": {
      "application/vnd.jupyter.widget-state+json": {
        "dd40fdcf91d24cf59a3af36f94915a59": {
          "model_module": "@jupyter-widgets/controls",
          "model_name": "HBoxModel",
          "state": {
            "_view_name": "HBoxView",
            "_dom_classes": [],
            "_model_name": "HBoxModel",
            "_view_module": "@jupyter-widgets/controls",
            "_model_module_version": "1.5.0",
            "_view_count": null,
            "_view_module_version": "1.5.0",
            "box_style": "",
            "layout": "IPY_MODEL_c2790c6f2ccd4963b5cca6b1bfcdf891",
            "_model_module": "@jupyter-widgets/controls",
            "children": [
              "IPY_MODEL_841f412a9edc4d51a183a624a4f729c6",
              "IPY_MODEL_233bbbf8d267438e8ca34a1d847b5579"
            ]
          },
          "model_module_version": "1.5.0"
        },
        "c2790c6f2ccd4963b5cca6b1bfcdf891": {
          "model_module": "@jupyter-widgets/base",
          "model_name": "LayoutModel",
          "state": {
            "_view_name": "LayoutView",
            "grid_template_rows": null,
            "right": null,
            "justify_content": null,
            "_view_module": "@jupyter-widgets/base",
            "overflow": null,
            "_model_module_version": "1.2.0",
            "_view_count": null,
            "flex_flow": null,
            "width": null,
            "min_width": null,
            "border": null,
            "align_items": null,
            "bottom": null,
            "_model_module": "@jupyter-widgets/base",
            "top": null,
            "grid_column": null,
            "overflow_y": null,
            "overflow_x": null,
            "grid_auto_flow": null,
            "grid_area": null,
            "grid_template_columns": null,
            "flex": null,
            "_model_name": "LayoutModel",
            "justify_items": null,
            "grid_row": null,
            "max_height": null,
            "align_content": null,
            "visibility": null,
            "align_self": null,
            "height": null,
            "min_height": null,
            "padding": null,
            "grid_auto_rows": null,
            "grid_gap": null,
            "max_width": null,
            "order": null,
            "_view_module_version": "1.2.0",
            "grid_template_areas": null,
            "object_position": null,
            "object_fit": null,
            "grid_auto_columns": null,
            "margin": null,
            "display": null,
            "left": null
          },
          "model_module_version": "1.2.0"
        },
        "841f412a9edc4d51a183a624a4f729c6": {
          "model_module": "@jupyter-widgets/controls",
          "model_name": "FloatProgressModel",
          "state": {
            "_view_name": "ProgressView",
            "style": "IPY_MODEL_5db0364c9d70466dbe03ed8aa5684437",
            "_dom_classes": [],
            "description": "Downloading: 100%",
            "_model_name": "FloatProgressModel",
            "bar_style": "success",
            "max": 231508,
            "_view_module": "@jupyter-widgets/controls",
            "_model_module_version": "1.5.0",
            "value": 231508,
            "_view_count": null,
            "_view_module_version": "1.5.0",
            "orientation": "horizontal",
            "min": 0,
            "description_tooltip": null,
            "_model_module": "@jupyter-widgets/controls",
            "layout": "IPY_MODEL_79c8d93ba3614442a8d61993046bb935"
          },
          "model_module_version": "1.5.0"
        },
        "233bbbf8d267438e8ca34a1d847b5579": {
          "model_module": "@jupyter-widgets/controls",
          "model_name": "HTMLModel",
          "state": {
            "_view_name": "HTMLView",
            "style": "IPY_MODEL_69ad6ff36e364232a6dc02259bf9b1cf",
            "_dom_classes": [],
            "description": "",
            "_model_name": "HTMLModel",
            "placeholder": "​",
            "_view_module": "@jupyter-widgets/controls",
            "_model_module_version": "1.5.0",
            "value": " 232k/232k [00:00&lt;00:00, 772kB/s]",
            "_view_count": null,
            "_view_module_version": "1.5.0",
            "description_tooltip": null,
            "_model_module": "@jupyter-widgets/controls",
            "layout": "IPY_MODEL_348fad07be744d189cbe9fab1dec0e7d"
          },
          "model_module_version": "1.5.0"
        },
        "5db0364c9d70466dbe03ed8aa5684437": {
          "model_module": "@jupyter-widgets/controls",
          "model_name": "ProgressStyleModel",
          "state": {
            "_view_name": "StyleView",
            "_model_name": "ProgressStyleModel",
            "description_width": "initial",
            "_view_module": "@jupyter-widgets/base",
            "_model_module_version": "1.5.0",
            "_view_count": null,
            "_view_module_version": "1.2.0",
            "bar_color": null,
            "_model_module": "@jupyter-widgets/controls"
          },
          "model_module_version": "1.5.0"
        },
        "79c8d93ba3614442a8d61993046bb935": {
          "model_module": "@jupyter-widgets/base",
          "model_name": "LayoutModel",
          "state": {
            "_view_name": "LayoutView",
            "grid_template_rows": null,
            "right": null,
            "justify_content": null,
            "_view_module": "@jupyter-widgets/base",
            "overflow": null,
            "_model_module_version": "1.2.0",
            "_view_count": null,
            "flex_flow": null,
            "width": null,
            "min_width": null,
            "border": null,
            "align_items": null,
            "bottom": null,
            "_model_module": "@jupyter-widgets/base",
            "top": null,
            "grid_column": null,
            "overflow_y": null,
            "overflow_x": null,
            "grid_auto_flow": null,
            "grid_area": null,
            "grid_template_columns": null,
            "flex": null,
            "_model_name": "LayoutModel",
            "justify_items": null,
            "grid_row": null,
            "max_height": null,
            "align_content": null,
            "visibility": null,
            "align_self": null,
            "height": null,
            "min_height": null,
            "padding": null,
            "grid_auto_rows": null,
            "grid_gap": null,
            "max_width": null,
            "order": null,
            "_view_module_version": "1.2.0",
            "grid_template_areas": null,
            "object_position": null,
            "object_fit": null,
            "grid_auto_columns": null,
            "margin": null,
            "display": null,
            "left": null
          },
          "model_module_version": "1.2.0"
        },
        "69ad6ff36e364232a6dc02259bf9b1cf": {
          "model_module": "@jupyter-widgets/controls",
          "model_name": "DescriptionStyleModel",
          "state": {
            "_view_name": "StyleView",
            "_model_name": "DescriptionStyleModel",
            "description_width": "",
            "_view_module": "@jupyter-widgets/base",
            "_model_module_version": "1.5.0",
            "_view_count": null,
            "_view_module_version": "1.2.0",
            "_model_module": "@jupyter-widgets/controls"
          },
          "model_module_version": "1.5.0"
        },
        "348fad07be744d189cbe9fab1dec0e7d": {
          "model_module": "@jupyter-widgets/base",
          "model_name": "LayoutModel",
          "state": {
            "_view_name": "LayoutView",
            "grid_template_rows": null,
            "right": null,
            "justify_content": null,
            "_view_module": "@jupyter-widgets/base",
            "overflow": null,
            "_model_module_version": "1.2.0",
            "_view_count": null,
            "flex_flow": null,
            "width": null,
            "min_width": null,
            "border": null,
            "align_items": null,
            "bottom": null,
            "_model_module": "@jupyter-widgets/base",
            "top": null,
            "grid_column": null,
            "overflow_y": null,
            "overflow_x": null,
            "grid_auto_flow": null,
            "grid_area": null,
            "grid_template_columns": null,
            "flex": null,
            "_model_name": "LayoutModel",
            "justify_items": null,
            "grid_row": null,
            "max_height": null,
            "align_content": null,
            "visibility": null,
            "align_self": null,
            "height": null,
            "min_height": null,
            "padding": null,
            "grid_auto_rows": null,
            "grid_gap": null,
            "max_width": null,
            "order": null,
            "_view_module_version": "1.2.0",
            "grid_template_areas": null,
            "object_position": null,
            "object_fit": null,
            "grid_auto_columns": null,
            "margin": null,
            "display": null,
            "left": null
          },
          "model_module_version": "1.2.0"
        },
        "d3b2713ff8d64fca918daea5febf8b01": {
          "model_module": "@jupyter-widgets/controls",
          "model_name": "HBoxModel",
          "state": {
            "_view_name": "HBoxView",
            "_dom_classes": [],
            "_model_name": "HBoxModel",
            "_view_module": "@jupyter-widgets/controls",
            "_model_module_version": "1.5.0",
            "_view_count": null,
            "_view_module_version": "1.5.0",
            "box_style": "",
            "layout": "IPY_MODEL_eab69f15e3d643ea9ea62b13369e0c5b",
            "_model_module": "@jupyter-widgets/controls",
            "children": [
              "IPY_MODEL_1a352759c125431bbba4147bd24176f7",
              "IPY_MODEL_b104d2965f2147ae9554d0a54de7eb64"
            ]
          },
          "model_module_version": "1.5.0"
        },
        "eab69f15e3d643ea9ea62b13369e0c5b": {
          "model_module": "@jupyter-widgets/base",
          "model_name": "LayoutModel",
          "state": {
            "_view_name": "LayoutView",
            "grid_template_rows": null,
            "right": null,
            "justify_content": null,
            "_view_module": "@jupyter-widgets/base",
            "overflow": null,
            "_model_module_version": "1.2.0",
            "_view_count": null,
            "flex_flow": null,
            "width": null,
            "min_width": null,
            "border": null,
            "align_items": null,
            "bottom": null,
            "_model_module": "@jupyter-widgets/base",
            "top": null,
            "grid_column": null,
            "overflow_y": null,
            "overflow_x": null,
            "grid_auto_flow": null,
            "grid_area": null,
            "grid_template_columns": null,
            "flex": null,
            "_model_name": "LayoutModel",
            "justify_items": null,
            "grid_row": null,
            "max_height": null,
            "align_content": null,
            "visibility": null,
            "align_self": null,
            "height": null,
            "min_height": null,
            "padding": null,
            "grid_auto_rows": null,
            "grid_gap": null,
            "max_width": null,
            "order": null,
            "_view_module_version": "1.2.0",
            "grid_template_areas": null,
            "object_position": null,
            "object_fit": null,
            "grid_auto_columns": null,
            "margin": null,
            "display": null,
            "left": null
          },
          "model_module_version": "1.2.0"
        },
        "1a352759c125431bbba4147bd24176f7": {
          "model_module": "@jupyter-widgets/controls",
          "model_name": "FloatProgressModel",
          "state": {
            "_view_name": "ProgressView",
            "style": "IPY_MODEL_8248c79eace143a595d46631024cc932",
            "_dom_classes": [],
            "description": "Downloading: 100%",
            "_model_name": "FloatProgressModel",
            "bar_style": "success",
            "max": 433,
            "_view_module": "@jupyter-widgets/controls",
            "_model_module_version": "1.5.0",
            "value": 433,
            "_view_count": null,
            "_view_module_version": "1.5.0",
            "orientation": "horizontal",
            "min": 0,
            "description_tooltip": null,
            "_model_module": "@jupyter-widgets/controls",
            "layout": "IPY_MODEL_b998b0dc4e0d4e2c91aef0f31887c181"
          },
          "model_module_version": "1.5.0"
        },
        "b104d2965f2147ae9554d0a54de7eb64": {
          "model_module": "@jupyter-widgets/controls",
          "model_name": "HTMLModel",
          "state": {
            "_view_name": "HTMLView",
            "style": "IPY_MODEL_3beb4727f6d4492697cd7481dd3677e7",
            "_dom_classes": [],
            "description": "",
            "_model_name": "HTMLModel",
            "placeholder": "​",
            "_view_module": "@jupyter-widgets/controls",
            "_model_module_version": "1.5.0",
            "value": " 433/433 [00:00&lt;00:00, 979B/s]",
            "_view_count": null,
            "_view_module_version": "1.5.0",
            "description_tooltip": null,
            "_model_module": "@jupyter-widgets/controls",
            "layout": "IPY_MODEL_13c8ca08965746419732297beb030ce1"
          },
          "model_module_version": "1.5.0"
        },
        "8248c79eace143a595d46631024cc932": {
          "model_module": "@jupyter-widgets/controls",
          "model_name": "ProgressStyleModel",
          "state": {
            "_view_name": "StyleView",
            "_model_name": "ProgressStyleModel",
            "description_width": "initial",
            "_view_module": "@jupyter-widgets/base",
            "_model_module_version": "1.5.0",
            "_view_count": null,
            "_view_module_version": "1.2.0",
            "bar_color": null,
            "_model_module": "@jupyter-widgets/controls"
          },
          "model_module_version": "1.5.0"
        },
        "b998b0dc4e0d4e2c91aef0f31887c181": {
          "model_module": "@jupyter-widgets/base",
          "model_name": "LayoutModel",
          "state": {
            "_view_name": "LayoutView",
            "grid_template_rows": null,
            "right": null,
            "justify_content": null,
            "_view_module": "@jupyter-widgets/base",
            "overflow": null,
            "_model_module_version": "1.2.0",
            "_view_count": null,
            "flex_flow": null,
            "width": null,
            "min_width": null,
            "border": null,
            "align_items": null,
            "bottom": null,
            "_model_module": "@jupyter-widgets/base",
            "top": null,
            "grid_column": null,
            "overflow_y": null,
            "overflow_x": null,
            "grid_auto_flow": null,
            "grid_area": null,
            "grid_template_columns": null,
            "flex": null,
            "_model_name": "LayoutModel",
            "justify_items": null,
            "grid_row": null,
            "max_height": null,
            "align_content": null,
            "visibility": null,
            "align_self": null,
            "height": null,
            "min_height": null,
            "padding": null,
            "grid_auto_rows": null,
            "grid_gap": null,
            "max_width": null,
            "order": null,
            "_view_module_version": "1.2.0",
            "grid_template_areas": null,
            "object_position": null,
            "object_fit": null,
            "grid_auto_columns": null,
            "margin": null,
            "display": null,
            "left": null
          },
          "model_module_version": "1.2.0"
        },
        "3beb4727f6d4492697cd7481dd3677e7": {
          "model_module": "@jupyter-widgets/controls",
          "model_name": "DescriptionStyleModel",
          "state": {
            "_view_name": "StyleView",
            "_model_name": "DescriptionStyleModel",
            "description_width": "",
            "_view_module": "@jupyter-widgets/base",
            "_model_module_version": "1.5.0",
            "_view_count": null,
            "_view_module_version": "1.2.0",
            "_model_module": "@jupyter-widgets/controls"
          },
          "model_module_version": "1.5.0"
        },
        "13c8ca08965746419732297beb030ce1": {
          "model_module": "@jupyter-widgets/base",
          "model_name": "LayoutModel",
          "state": {
            "_view_name": "LayoutView",
            "grid_template_rows": null,
            "right": null,
            "justify_content": null,
            "_view_module": "@jupyter-widgets/base",
            "overflow": null,
            "_model_module_version": "1.2.0",
            "_view_count": null,
            "flex_flow": null,
            "width": null,
            "min_width": null,
            "border": null,
            "align_items": null,
            "bottom": null,
            "_model_module": "@jupyter-widgets/base",
            "top": null,
            "grid_column": null,
            "overflow_y": null,
            "overflow_x": null,
            "grid_auto_flow": null,
            "grid_area": null,
            "grid_template_columns": null,
            "flex": null,
            "_model_name": "LayoutModel",
            "justify_items": null,
            "grid_row": null,
            "max_height": null,
            "align_content": null,
            "visibility": null,
            "align_self": null,
            "height": null,
            "min_height": null,
            "padding": null,
            "grid_auto_rows": null,
            "grid_gap": null,
            "max_width": null,
            "order": null,
            "_view_module_version": "1.2.0",
            "grid_template_areas": null,
            "object_position": null,
            "object_fit": null,
            "grid_auto_columns": null,
            "margin": null,
            "display": null,
            "left": null
          },
          "model_module_version": "1.2.0"
        },
        "ed2ab086f56e49b79c2369c3d497f227": {
          "model_module": "@jupyter-widgets/controls",
          "model_name": "HBoxModel",
          "state": {
            "_view_name": "HBoxView",
            "_dom_classes": [],
            "_model_name": "HBoxModel",
            "_view_module": "@jupyter-widgets/controls",
            "_model_module_version": "1.5.0",
            "_view_count": null,
            "_view_module_version": "1.5.0",
            "box_style": "",
            "layout": "IPY_MODEL_342e1670470f4026a88948e3faa847fa",
            "_model_module": "@jupyter-widgets/controls",
            "children": [
              "IPY_MODEL_a413a4ff180b4bb6832d4e9a19145c61",
              "IPY_MODEL_0743ce0b964e48f68caf73681177154d"
            ]
          },
          "model_module_version": "1.5.0"
        },
        "342e1670470f4026a88948e3faa847fa": {
          "model_module": "@jupyter-widgets/base",
          "model_name": "LayoutModel",
          "state": {
            "_view_name": "LayoutView",
            "grid_template_rows": null,
            "right": null,
            "justify_content": null,
            "_view_module": "@jupyter-widgets/base",
            "overflow": null,
            "_model_module_version": "1.2.0",
            "_view_count": null,
            "flex_flow": null,
            "width": null,
            "min_width": null,
            "border": null,
            "align_items": null,
            "bottom": null,
            "_model_module": "@jupyter-widgets/base",
            "top": null,
            "grid_column": null,
            "overflow_y": null,
            "overflow_x": null,
            "grid_auto_flow": null,
            "grid_area": null,
            "grid_template_columns": null,
            "flex": null,
            "_model_name": "LayoutModel",
            "justify_items": null,
            "grid_row": null,
            "max_height": null,
            "align_content": null,
            "visibility": null,
            "align_self": null,
            "height": null,
            "min_height": null,
            "padding": null,
            "grid_auto_rows": null,
            "grid_gap": null,
            "max_width": null,
            "order": null,
            "_view_module_version": "1.2.0",
            "grid_template_areas": null,
            "object_position": null,
            "object_fit": null,
            "grid_auto_columns": null,
            "margin": null,
            "display": null,
            "left": null
          },
          "model_module_version": "1.2.0"
        },
        "a413a4ff180b4bb6832d4e9a19145c61": {
          "model_module": "@jupyter-widgets/controls",
          "model_name": "FloatProgressModel",
          "state": {
            "_view_name": "ProgressView",
            "style": "IPY_MODEL_bcc723d67f6d4e3d8eb3b5090d7e6b3e",
            "_dom_classes": [],
            "description": "Downloading: 100%",
            "_model_name": "FloatProgressModel",
            "bar_style": "success",
            "max": 440473133,
            "_view_module": "@jupyter-widgets/controls",
            "_model_module_version": "1.5.0",
            "value": 440473133,
            "_view_count": null,
            "_view_module_version": "1.5.0",
            "orientation": "horizontal",
            "min": 0,
            "description_tooltip": null,
            "_model_module": "@jupyter-widgets/controls",
            "layout": "IPY_MODEL_ea14ac5977fd435dbc5fcd7a17604cbb"
          },
          "model_module_version": "1.5.0"
        },
        "0743ce0b964e48f68caf73681177154d": {
          "model_module": "@jupyter-widgets/controls",
          "model_name": "HTMLModel",
          "state": {
            "_view_name": "HTMLView",
            "style": "IPY_MODEL_b53ebf30ab194ba8bdb95af0fe913428",
            "_dom_classes": [],
            "description": "",
            "_model_name": "HTMLModel",
            "placeholder": "​",
            "_view_module": "@jupyter-widgets/controls",
            "_model_module_version": "1.5.0",
            "value": " 440M/440M [00:07&lt;00:00, 59.4MB/s]",
            "_view_count": null,
            "_view_module_version": "1.5.0",
            "description_tooltip": null,
            "_model_module": "@jupyter-widgets/controls",
            "layout": "IPY_MODEL_da2b4cf8c2c84b32a2aa1ebf844a83e8"
          },
          "model_module_version": "1.5.0"
        },
        "bcc723d67f6d4e3d8eb3b5090d7e6b3e": {
          "model_module": "@jupyter-widgets/controls",
          "model_name": "ProgressStyleModel",
          "state": {
            "_view_name": "StyleView",
            "_model_name": "ProgressStyleModel",
            "description_width": "initial",
            "_view_module": "@jupyter-widgets/base",
            "_model_module_version": "1.5.0",
            "_view_count": null,
            "_view_module_version": "1.2.0",
            "bar_color": null,
            "_model_module": "@jupyter-widgets/controls"
          },
          "model_module_version": "1.5.0"
        },
        "ea14ac5977fd435dbc5fcd7a17604cbb": {
          "model_module": "@jupyter-widgets/base",
          "model_name": "LayoutModel",
          "state": {
            "_view_name": "LayoutView",
            "grid_template_rows": null,
            "right": null,
            "justify_content": null,
            "_view_module": "@jupyter-widgets/base",
            "overflow": null,
            "_model_module_version": "1.2.0",
            "_view_count": null,
            "flex_flow": null,
            "width": null,
            "min_width": null,
            "border": null,
            "align_items": null,
            "bottom": null,
            "_model_module": "@jupyter-widgets/base",
            "top": null,
            "grid_column": null,
            "overflow_y": null,
            "overflow_x": null,
            "grid_auto_flow": null,
            "grid_area": null,
            "grid_template_columns": null,
            "flex": null,
            "_model_name": "LayoutModel",
            "justify_items": null,
            "grid_row": null,
            "max_height": null,
            "align_content": null,
            "visibility": null,
            "align_self": null,
            "height": null,
            "min_height": null,
            "padding": null,
            "grid_auto_rows": null,
            "grid_gap": null,
            "max_width": null,
            "order": null,
            "_view_module_version": "1.2.0",
            "grid_template_areas": null,
            "object_position": null,
            "object_fit": null,
            "grid_auto_columns": null,
            "margin": null,
            "display": null,
            "left": null
          },
          "model_module_version": "1.2.0"
        },
        "b53ebf30ab194ba8bdb95af0fe913428": {
          "model_module": "@jupyter-widgets/controls",
          "model_name": "DescriptionStyleModel",
          "state": {
            "_view_name": "StyleView",
            "_model_name": "DescriptionStyleModel",
            "description_width": "",
            "_view_module": "@jupyter-widgets/base",
            "_model_module_version": "1.5.0",
            "_view_count": null,
            "_view_module_version": "1.2.0",
            "_model_module": "@jupyter-widgets/controls"
          },
          "model_module_version": "1.5.0"
        },
        "da2b4cf8c2c84b32a2aa1ebf844a83e8": {
          "model_module": "@jupyter-widgets/base",
          "model_name": "LayoutModel",
          "state": {
            "_view_name": "LayoutView",
            "grid_template_rows": null,
            "right": null,
            "justify_content": null,
            "_view_module": "@jupyter-widgets/base",
            "overflow": null,
            "_model_module_version": "1.2.0",
            "_view_count": null,
            "flex_flow": null,
            "width": null,
            "min_width": null,
            "border": null,
            "align_items": null,
            "bottom": null,
            "_model_module": "@jupyter-widgets/base",
            "top": null,
            "grid_column": null,
            "overflow_y": null,
            "overflow_x": null,
            "grid_auto_flow": null,
            "grid_area": null,
            "grid_template_columns": null,
            "flex": null,
            "_model_name": "LayoutModel",
            "justify_items": null,
            "grid_row": null,
            "max_height": null,
            "align_content": null,
            "visibility": null,
            "align_self": null,
            "height": null,
            "min_height": null,
            "padding": null,
            "grid_auto_rows": null,
            "grid_gap": null,
            "max_width": null,
            "order": null,
            "_view_module_version": "1.2.0",
            "grid_template_areas": null,
            "object_position": null,
            "object_fit": null,
            "grid_auto_columns": null,
            "margin": null,
            "display": null,
            "left": null
          },
          "model_module_version": "1.2.0"
        }
      }
    }
  },
  "cells": [
    {
      "cell_type": "markdown",
      "metadata": {
        "id": "view-in-github",
        "colab_type": "text"
      },
      "source": [
        "<a href=\"https://colab.research.google.com/github/saintyun/-DL_PaperReadingMeeting/blob/master/02_%EB%82%98%EB%A5%BC_%EC%9C%84%ED%95%9C_%EC%B6%94%EC%B2%9C_%EC%95%8C%EA%B3%A0%EB%A6%AC%EC%A6%98_02_%EB%A6%AC%EB%B7%B0%EB%8D%B0%EC%9D%B4%ED%84%B0%EB%A1%9C_%EC%B6%94%EC%B2%9C%EC%84%B1%EB%8A%A5_%EB%81%8C%EC%96%B4%EC%98%AC%EB%A6%AC%EA%B8%B0.ipynb\" target=\"_parent\"><img src=\"https://colab.research.google.com/assets/colab-badge.svg\" alt=\"Open In Colab\"/></a>"
      ]
    },
    {
      "cell_type": "markdown",
      "metadata": {
        "id": "FFzwNS0et-bQ"
      },
      "source": [
        "# Amazon Review Data 활용하기\n",
        "1. 데이터셋 버전\n",
        "  - 2013 버전([링크](http://snap.stanford.edu/data/web-Amazon-links.html))\n",
        "  - 2014 버전([링크](https://jmcauley.ucsd.edu/data/amazon/))\n",
        "  - 2018 버전([링크](https://nijianmo.github.io/amazon/index.html))\n",
        "2. 2018버전 데이터셋 정보\n",
        "  - reviews(ratings, text, helpfulness votes)\n",
        "  - product metadata(descriptions, category information, price band and image features)\n",
        "  - links(also viewed/also bought graphs)\n",
        "  - 이외 추가 정보는 웹사이트 참고\n",
        "  - 최근(2020-08-07)까지 업데이트된 내용이 있다\n",
        "3. 데이터셋 크기가 매우 크기 때문에, `Complete review data`보다 `Small subsets 데이터`를 먼저 사용하는 것을 추천한다\n"
      ]
    },
    {
      "cell_type": "markdown",
      "metadata": {
        "id": "ojJ24uf2WoOZ"
      },
      "source": [
        "## Download data"
      ]
    },
    {
      "cell_type": "markdown",
      "metadata": {
        "id": "sum63mHWZM7_"
      },
      "source": [
        "### 1. wget command를 활용한다"
      ]
    },
    {
      "cell_type": "code",
      "metadata": {
        "id": "I1TlnbhpwNvR"
      },
      "source": [
        "import os\n",
        "import json\n",
        "import gzip\n",
        "import pandas as pd\n",
        "from urllib.request import urlopen"
      ],
      "execution_count": null,
      "outputs": []
    },
    {
      "cell_type": "code",
      "metadata": {
        "id": "dZbzKPHytH_t",
        "colab": {
          "base_uri": "https://localhost:8080/"
        },
        "outputId": "a1fc0991-0df5-4e5e-bad3-8c1bb74d2e5a"
      },
      "source": [
        "!wget http://deepyeti.ucsd.edu/jianmo/amazon/sample/meta_Computers.json.gz"
      ],
      "execution_count": null,
      "outputs": [
        {
          "output_type": "stream",
          "text": [
            "--2021-01-21 04:56:47--  http://deepyeti.ucsd.edu/jianmo/amazon/sample/meta_Computers.json.gz\n",
            "Resolving deepyeti.ucsd.edu (deepyeti.ucsd.edu)... 169.228.63.50\n",
            "Connecting to deepyeti.ucsd.edu (deepyeti.ucsd.edu)|169.228.63.50|:80... connected.\n",
            "HTTP request sent, awaiting response... 200 OK\n",
            "Length: 7010521 (6.7M) [application/octet-stream]\n",
            "Saving to: ‘meta_Computers.json.gz’\n",
            "\n",
            "meta_Computers.json 100%[===================>]   6.69M  18.6MB/s    in 0.4s    \n",
            "\n",
            "2021-01-21 04:56:48 (18.6 MB/s) - ‘meta_Computers.json.gz’ saved [7010521/7010521]\n",
            "\n"
          ],
          "name": "stdout"
        }
      ]
    },
    {
      "cell_type": "code",
      "metadata": {
        "id": "EEZ01__YwEhV",
        "colab": {
          "base_uri": "https://localhost:8080/"
        },
        "outputId": "666a6b44-8b63-4e49-faa7-5ee2d2c70bcf"
      },
      "source": [
        "### load the meta data\n",
        "data = []\n",
        "with gzip.open('meta_Computers.json.gz') as f:\n",
        "    for l in f:\n",
        "        data.append(json.loads(l.strip()))\n",
        "\n",
        "# total length of list, this number equals total number of products\n",
        "print(len(data))\n",
        "\n",
        "# first row of the list\n",
        "print(data[0])"
      ],
      "execution_count": null,
      "outputs": [
        {
          "output_type": "stream",
          "text": [
            "18772\n",
            "{'description': ['Brand new. Still in factory-sealed plastic.'], 'title': 'Kelby Training DVD: The Adobe Photoshop CS5 7-Point System for Camera Raw By Scott Kelby', 'image': ['https://images-na.ssl-images-amazon.com/images/I/31IlLImCVJL._SS40_.jpg'], 'brand': 'Kelby Training', 'rank': ['>#654,681 in Electronics (See Top 100 in Electronics)'], 'main_cat': 'Computers', 'date': 'December 2, 2011', 'asin': '0321732960'}\n"
          ],
          "name": "stdout"
        }
      ]
    },
    {
      "cell_type": "code",
      "metadata": {
        "id": "E6ojAG2BwK_h",
        "colab": {
          "base_uri": "https://localhost:8080/"
        },
        "outputId": "c81bb8b0-4975-4a7b-a88d-99d751201bef"
      },
      "source": [
        "# convert list into pandas dataframe\n",
        "df = pd.DataFrame.from_dict(data)\n",
        "print(len(df))"
      ],
      "execution_count": null,
      "outputs": [
        {
          "output_type": "stream",
          "text": [
            "18772\n"
          ],
          "name": "stdout"
        }
      ]
    },
    {
      "cell_type": "code",
      "metadata": {
        "id": "0giHd0Xwwg-O"
      },
      "source": [
        "df.head()"
      ],
      "execution_count": null,
      "outputs": []
    },
    {
      "cell_type": "code",
      "metadata": {
        "id": "DoEDnyUVwiNJ",
        "colab": {
          "base_uri": "https://localhost:8080/"
        },
        "outputId": "f8809b77-7333-4cee-e6b2-ab8ad09f2698"
      },
      "source": [
        "### remove rows with unformatted title (i.e. some 'title' may still contain html style content)\n",
        "df3 = df.fillna('')\n",
        "df4 = df3[df3.title.str.contains('getTime')] # unformatted rows\n",
        "df5 = df3[~df3.title.str.contains('getTime')] # filter those unformatted rows\n",
        "print(len(df4))\n",
        "print(len(df5))"
      ],
      "execution_count": null,
      "outputs": [
        {
          "output_type": "stream",
          "text": [
            "135\n",
            "18637\n"
          ],
          "name": "stdout"
        }
      ]
    },
    {
      "cell_type": "code",
      "metadata": {
        "id": "uXv0hWdJwtpS"
      },
      "source": [
        "# how those unformatted rows look like\n",
        "df4.iloc[0]"
      ],
      "execution_count": null,
      "outputs": []
    },
    {
      "cell_type": "markdown",
      "metadata": {
        "id": "pEKaMQbfZSce"
      },
      "source": [
        "### 2. 직접 다운로드 한다\n",
        "\n",
        "  ![image.png](data:image/png;base64,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)"
      ]
    },
    {
      "cell_type": "code",
      "metadata": {
        "id": "-geMRGhPb5w9"
      },
      "source": [
        "import os, json\n",
        "import pandas as pd"
      ],
      "execution_count": null,
      "outputs": []
    },
    {
      "cell_type": "code",
      "metadata": {
        "id": "DSlR3H9iwwGL",
        "colab": {
          "base_uri": "https://localhost:8080/"
        },
        "outputId": "b4932830-a8af-418f-cae7-397579c6ace8"
      },
      "source": [
        "from google.colab import drive\n",
        "drive.mount('/content/drive')"
      ],
      "execution_count": null,
      "outputs": [
        {
          "output_type": "stream",
          "text": [
            "Mounted at /content/drive\n"
          ],
          "name": "stdout"
        }
      ]
    },
    {
      "cell_type": "code",
      "metadata": {
        "id": "iMsmQMnRbnll"
      },
      "source": [
        "path = '/content/drive/MyDrive/data/amazon_reviews'"
      ],
      "execution_count": null,
      "outputs": []
    },
    {
      "cell_type": "markdown",
      "metadata": {
        "id": "4xeh9lVlhHlp"
      },
      "source": [
        "#### Read CSV file for ratings only\n",
        "- (item, user, rating, timestamp)"
      ]
    },
    {
      "cell_type": "code",
      "metadata": {
        "id": "LIRBr0kyb3Fx"
      },
      "source": [
        "ratings_df = pd.read_csv(os.path.join(path, 'Software.csv'), header=None, names=['item','user','rating','timestamp'], encoding='utf-8')"
      ],
      "execution_count": null,
      "outputs": []
    },
    {
      "cell_type": "code",
      "metadata": {
        "id": "USHRNGhmb_OW",
        "colab": {
          "base_uri": "https://localhost:8080/"
        },
        "outputId": "a4aff319-ab1d-49c8-f289-afd540143677"
      },
      "source": [
        "print(ratings_df.shape)\n",
        "print(ratings_df.head())"
      ],
      "execution_count": null,
      "outputs": [
        {
          "output_type": "stream",
          "text": [
            "(459436, 4)\n",
            "         item            user  rating   timestamp\n",
            "0  0077613252  A240ORQ2LF9LUI     4.0  1394496000\n",
            "1  0077613252  A1YCCU0YRLS0FE     4.0  1393113600\n",
            "2  0077613252  A1BJHRQDYVAY2J     1.0  1392595200\n",
            "3  0077613252   APRDVZ6QBIQXT     3.0  1392595200\n",
            "4  0077775473  A2JZTTBSLS1QXV     5.0  1381708800\n"
          ],
          "name": "stdout"
        }
      ]
    },
    {
      "cell_type": "markdown",
      "metadata": {
        "id": "LVo9vb-2jCH6"
      },
      "source": [
        "#### Read JSON file\n",
        "  - users and items with reviews each\n",
        "  - ![image.png](data:image/png;base64,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)"
      ]
    },
    {
      "cell_type": "code",
      "metadata": {
        "id": "S3_kL5FAcCsX"
      },
      "source": [
        "data = []\n",
        "with open(os.path.join(path, 'Software_5.json'), 'r', encoding='utf-8') as f:\n",
        "    for l in f:\n",
        "        data.append(json.loads(l.strip()))"
      ],
      "execution_count": null,
      "outputs": []
    },
    {
      "cell_type": "code",
      "metadata": {
        "id": "dXDE8EspeTJT",
        "colab": {
          "base_uri": "https://localhost:8080/"
        },
        "outputId": "a04d8d21-5686-4d9e-9b06-052a6030f13b"
      },
      "source": [
        "all_df = pd.DataFrame.from_dict(data)\n",
        "print(all_df.shape)\n",
        "print(all_df.columns)"
      ],
      "execution_count": null,
      "outputs": [
        {
          "output_type": "stream",
          "text": [
            "(12805, 12)\n",
            "Index(['overall', 'verified', 'reviewTime', 'reviewerID', 'asin', 'style',\n",
            "       'reviewerName', 'reviewText', 'summary', 'unixReviewTime', 'vote',\n",
            "       'image'],\n",
            "      dtype='object')\n"
          ],
          "name": "stdout"
        }
      ]
    },
    {
      "cell_type": "code",
      "metadata": {
        "id": "OyVNchPigtwS",
        "colab": {
          "base_uri": "https://localhost:8080/"
        },
        "outputId": "57701453-cf1c-4e4e-bcb5-f60e9281343c"
      },
      "source": [
        "all_df = all_df[['reviewerID', 'asin', 'vote', 'reviewText', 'overall']]\n",
        "print(all_df.head())"
      ],
      "execution_count": null,
      "outputs": [
        {
          "output_type": "stream",
          "text": [
            "       reviewerID  ... overall\n",
            "0  A38NELQT98S4H8  ...     4.0\n",
            "1  A3QJU4FEN8PQSZ  ...     4.0\n",
            "2   ACJT8MUC0LRF0  ...     5.0\n",
            "3   AYUF7YETYOLNX  ...     5.0\n",
            "4  A31ICLWQ9CSHRS  ...     5.0\n",
            "\n",
            "[5 rows x 5 columns]\n"
          ],
          "name": "stdout"
        }
      ]
    },
    {
      "cell_type": "code",
      "metadata": {
        "colab": {
          "base_uri": "https://localhost:8080/",
          "height": 195
        },
        "id": "0fb3Ig4LVfFT",
        "outputId": "abd5180b-6451-4fd5-804a-866d94f12574"
      },
      "source": [
        "all_df.head()"
      ],
      "execution_count": null,
      "outputs": [
        {
          "output_type": "execute_result",
          "data": {
            "text/html": [
              "<div>\n",
              "<style scoped>\n",
              "    .dataframe tbody tr th:only-of-type {\n",
              "        vertical-align: middle;\n",
              "    }\n",
              "\n",
              "    .dataframe tbody tr th {\n",
              "        vertical-align: top;\n",
              "    }\n",
              "\n",
              "    .dataframe thead th {\n",
              "        text-align: right;\n",
              "    }\n",
              "</style>\n",
              "<table border=\"1\" class=\"dataframe\">\n",
              "  <thead>\n",
              "    <tr style=\"text-align: right;\">\n",
              "      <th></th>\n",
              "      <th>reviewerID</th>\n",
              "      <th>asin</th>\n",
              "      <th>vote</th>\n",
              "      <th>reviewText</th>\n",
              "      <th>overall</th>\n",
              "    </tr>\n",
              "  </thead>\n",
              "  <tbody>\n",
              "    <tr>\n",
              "      <th>0</th>\n",
              "      <td>A38NELQT98S4H8</td>\n",
              "      <td>0321719816</td>\n",
              "      <td>NaN</td>\n",
              "      <td>I've been using Dreamweaver (and it's predeces...</td>\n",
              "      <td>4.0</td>\n",
              "    </tr>\n",
              "    <tr>\n",
              "      <th>1</th>\n",
              "      <td>A3QJU4FEN8PQSZ</td>\n",
              "      <td>0321719816</td>\n",
              "      <td>NaN</td>\n",
              "      <td>The demo is done with the PC version, with ref...</td>\n",
              "      <td>4.0</td>\n",
              "    </tr>\n",
              "    <tr>\n",
              "      <th>2</th>\n",
              "      <td>ACJT8MUC0LRF0</td>\n",
              "      <td>0321719816</td>\n",
              "      <td>3</td>\n",
              "      <td>If you've been wanting to learn how to create ...</td>\n",
              "      <td>5.0</td>\n",
              "    </tr>\n",
              "    <tr>\n",
              "      <th>3</th>\n",
              "      <td>AYUF7YETYOLNX</td>\n",
              "      <td>0321719816</td>\n",
              "      <td>NaN</td>\n",
              "      <td>I've been creating websites with Dreamweaver f...</td>\n",
              "      <td>5.0</td>\n",
              "    </tr>\n",
              "    <tr>\n",
              "      <th>4</th>\n",
              "      <td>A31ICLWQ9CSHRS</td>\n",
              "      <td>0321719816</td>\n",
              "      <td>NaN</td>\n",
              "      <td>I decided (after trying a number of other prod...</td>\n",
              "      <td>5.0</td>\n",
              "    </tr>\n",
              "  </tbody>\n",
              "</table>\n",
              "</div>"
            ],
            "text/plain": [
              "       reviewerID  ... overall\n",
              "0  A38NELQT98S4H8  ...     4.0\n",
              "1  A3QJU4FEN8PQSZ  ...     4.0\n",
              "2   ACJT8MUC0LRF0  ...     5.0\n",
              "3   AYUF7YETYOLNX  ...     5.0\n",
              "4  A31ICLWQ9CSHRS  ...     5.0\n",
              "\n",
              "[5 rows x 5 columns]"
            ]
          },
          "metadata": {
            "tags": []
          },
          "execution_count": 16
        }
      ]
    },
    {
      "cell_type": "markdown",
      "metadata": {
        "id": "uUj9Tb17zYBX"
      },
      "source": [
        "## Analyze data\n",
        "\n",
        "1. `reviewer`와 `item` unique수\n",
        "2. `reviewer`가 평균 review를 준 item 수"
      ]
    },
    {
      "cell_type": "code",
      "metadata": {
        "id": "eZnoEIvtxpGu",
        "colab": {
          "base_uri": "https://localhost:8080/"
        },
        "outputId": "1cb64158-79c5-461a-df30-a2fbd3640086"
      },
      "source": [
        "# number of unique reviewers\n",
        "print(len(all_df['reviewerID'].unique()))\n",
        "# number of unique items\n",
        "print(len(all_df['asin'].unique()))"
      ],
      "execution_count": null,
      "outputs": [
        {
          "output_type": "stream",
          "text": [
            "1826\n",
            "802\n"
          ],
          "name": "stdout"
        }
      ]
    },
    {
      "cell_type": "code",
      "metadata": {
        "id": "L_td2LGzzK57",
        "colab": {
          "base_uri": "https://localhost:8080/"
        },
        "outputId": "614a24c6-765f-4340-e0e5-31b9031c7ca4"
      },
      "source": [
        "reviewer_info_df = pd.concat([all_df.groupby(by='reviewerID')['asin'].count(),\n",
        "                              all_df.groupby(by='reviewerID')['overall'].mean()], axis=1)\n",
        "reviewer_info_df.columns = ['number_of_items','average_ratings']\n",
        "print(reviewer_info_df.head())\n",
        "print(reviewer_info_df.shape)"
      ],
      "execution_count": null,
      "outputs": [
        {
          "output_type": "stream",
          "text": [
            "                number_of_items  average_ratings\n",
            "reviewerID                                      \n",
            "A100UD67AHFODS                5         4.800000\n",
            "A105S56ODHGJEK               29         3.689655\n",
            "A1075X1Q4M3S78                5         5.000000\n",
            "A10C5CJK1YKGV0               10         4.100000\n",
            "A10CRW7XRJBJ2G                5         3.200000\n",
            "(1826, 2)\n"
          ],
          "name": "stdout"
        }
      ]
    },
    {
      "cell_type": "code",
      "metadata": {
        "id": "rydIzQ-o3s7u",
        "colab": {
          "base_uri": "https://localhost:8080/",
          "height": 331
        },
        "outputId": "f9118c34-d248-4aba-9443-870a8fb2324b"
      },
      "source": [
        "# review를 쓴 평균 item 수, item의 평균 평점\n",
        "reviewer_info_df.hist()"
      ],
      "execution_count": null,
      "outputs": [
        {
          "output_type": "execute_result",
          "data": {
            "text/plain": [
              "array([[<matplotlib.axes._subplots.AxesSubplot object at 0x7f2262561240>,\n",
              "        <matplotlib.axes._subplots.AxesSubplot object at 0x7f226250d4e0>]],\n",
              "      dtype=object)"
            ]
          },
          "metadata": {
            "tags": []
          },
          "execution_count": 19
        },
        {
          "output_type": "display_data",
          "data": {
            "image/png": "[encoded data removed]",
            "text/plain": [
              "<Figure size 432x288 with 2 Axes>"
            ]
          },
          "metadata": {
            "tags": [],
            "needs_background": "light"
          }
        }
      ]
    },
    {
      "cell_type": "markdown",
      "metadata": {
        "id": "5NDHKwJa5pzF"
      },
      "source": [
        "## Preprocess text data"
      ]
    },
    {
      "cell_type": "code",
      "metadata": {
        "id": "zfNyUWYFBS4s"
      },
      "source": [
        "import re"
      ],
      "execution_count": null,
      "outputs": []
    },
    {
      "cell_type": "code",
      "metadata": {
        "id": "2nebP_0t-SL0"
      },
      "source": [
        "removal_list =  \"‘, ’, ◇, ‘, ”,  ’, ', ·, \\“, ·, △, ●,  , ■, (, ), \\\", >>, `, /, -,∼,=,ㆍ<,>, .,?, !,【,】, …, ◆,%\"\n",
        "\n",
        "def preprocess_sent(sentence):\n",
        "    sentence = re.sub(\"[.,\\'\\\"’‘”“!?]\", \"\", sentence)\n",
        "    sentence = re.sub(\"[^0-9a-zA-Z\\\\s]\", \" \", sentence)\n",
        "    sentence = re.sub(\"\\s+\", \" \", sentence)\n",
        "\n",
        "    sentence = sentence.translate(str.maketrans(removal_list, ' '*len(removal_list)))\n",
        "    sentence = sentence.strip()\n",
        "\n",
        "    return sentence"
      ],
      "execution_count": null,
      "outputs": []
    },
    {
      "cell_type": "code",
      "metadata": {
        "id": "GJaAsiUc0GFC",
        "colab": {
          "base_uri": "https://localhost:8080/"
        },
        "outputId": "89d7fc92-698a-4f31-edb8-adf8c1bc5a9f"
      },
      "source": [
        "all_df = all_df[['reviewText','overall']]\n",
        "all_df.dropna(how='any', inplace=True)\n",
        "all_df['reviewText'] = all_df['reviewText'].apply(lambda x: preprocess_sent(str(x).replace('\\t',' ').replace('\\n',' ')))\n",
        "all_df['reviewText'] = all_df['reviewText'].apply(lambda x: ' '.join(x.split(' ')[:30]))\n",
        "\n",
        "print(all_df.shape)"
      ],
      "execution_count": null,
      "outputs": [
        {
          "output_type": "stream",
          "text": [
            "(12804, 2)\n"
          ],
          "name": "stdout"
        }
      ]
    },
    {
      "cell_type": "code",
      "metadata": {
        "id": "Cd_QAJbIATDU"
      },
      "source": [
        "all_df['num_lengths'] = all_df['reviewText'].apply(lambda x: len(x.split(' ')))\n",
        "all_df = all_df[all_df.num_lengths > 10]"
      ],
      "execution_count": null,
      "outputs": []
    },
    {
      "cell_type": "code",
      "metadata": {
        "id": "THp_B9p3B-qV",
        "colab": {
          "base_uri": "https://localhost:8080/"
        },
        "outputId": "c706ba23-d5a8-45ae-b56e-ebc4be61f367"
      },
      "source": [
        "all_df.drop('num_lengths', axis=1, inplace=True)\n",
        "print(all_df.shape)\n",
        "all_df.to_csv(os.path.join(path, 'Software_reviewText.csv'), sep='\\t', encoding='utf-8')"
      ],
      "execution_count": null,
      "outputs": [
        {
          "output_type": "stream",
          "text": [
            "(11273, 2)\n"
          ],
          "name": "stdout"
        }
      ]
    },
    {
      "cell_type": "code",
      "metadata": {
        "id": "FlabtQYc9peD",
        "colab": {
          "base_uri": "https://localhost:8080/",
          "height": 52
        },
        "outputId": "542b5d35-0118-41ed-beac-e6d2c6b4c155"
      },
      "source": [
        "all_df['reviewText'].iloc[0]"
      ],
      "execution_count": null,
      "outputs": [
        {
          "output_type": "execute_result",
          "data": {
            "application/vnd.google.colaboratory.intrinsic+json": {
              "type": "string"
            },
            "text/plain": [
              "'Ive been using Dreamweaver and its predecessor Macromedias UltraDev for many years For someone who is an experienced web designer this course is a high level review of the CS5'"
            ]
          },
          "metadata": {
            "tags": []
          },
          "execution_count": 25
        }
      ]
    },
    {
      "cell_type": "code",
      "metadata": {
        "colab": {
          "base_uri": "https://localhost:8080/"
        },
        "id": "P-8t32DAXIvQ",
        "outputId": "bb14dc13-83ed-422d-fb23-30974acf5329"
      },
      "source": [
        "all_df['overall'].iloc[0]"
      ],
      "execution_count": null,
      "outputs": [
        {
          "output_type": "execute_result",
          "data": {
            "text/plain": [
              "4.0"
            ]
          },
          "metadata": {
            "tags": []
          },
          "execution_count": 26
        }
      ]
    },
    {
      "cell_type": "markdown",
      "metadata": {
        "id": "yyuACh772OJL"
      },
      "source": [
        "## Load dataset"
      ]
    },
    {
      "cell_type": "code",
      "metadata": {
        "id": "IzzqpuvOy-SH"
      },
      "source": [
        "import torch\n",
        "from torchtext import data\n",
        "from torchtext import datasets\n",
        "import random\n",
        "\n",
        "SEED = 1234\n",
        "\n",
        "torch.manual_seed(SEED)\n",
        "torch.backends.cudnn.deterministic = True\n",
        "\n",
        "TEXT = data.Field(tokenize = 'spacy')\n",
        "LABEL = data.LabelField()"
      ],
      "execution_count": null,
      "outputs": []
    },
    {
      "cell_type": "code",
      "metadata": {
        "id": "odTeAk4A8D-V",
        "colab": {
          "base_uri": "https://localhost:8080/"
        },
        "outputId": "3aed510a-9969-40ba-911a-3c0483829551"
      },
      "source": [
        "fields = [(None, None), ('text', TEXT), ('label', LABEL)]\n",
        "\n",
        "# Load Custom dataset\n",
        "training_data = data.TabularDataset(path=os.path.join(path,'Software_reviewText.csv'),\n",
        "                                  format ='tsv', fields = fields, skip_header = True)\n",
        "\n",
        "# Print sample text\n",
        "print(vars(training_data.examples[0]))"
      ],
      "execution_count": null,
      "outputs": [
        {
          "output_type": "stream",
          "text": [
            "{'text': ['I', 've', 'been', 'using', 'Dreamweaver', 'and', 'its', 'predecessor', 'Macromedias', 'UltraDev', 'for', 'many', 'years', 'For', 'someone', 'who', 'is', 'an', 'experienced', 'web', 'designer', 'this', 'course', 'is', 'a', 'high', 'level', 'review', 'of', 'the', 'CS5'], 'label': '4.0'}\n"
          ],
          "name": "stdout"
        }
      ]
    },
    {
      "cell_type": "code",
      "metadata": {
        "id": "3_LrZmQp8H3X"
      },
      "source": [
        "MAX_VOCAB_SIZE = 25000\n",
        "\n",
        "# Pre-trained embedding을 사용하고자 한다면 아래를 실행하자\n",
        "# TEXT.build_vocab(train_data,\n",
        "#                  max_size = MAX_VOCAB_SIZE,\n",
        "#                  vectors = \"glove.6B.100d\",\n",
        "#                  unk_init = torch.Tensor.normal_)\n",
        "\n",
        "TEXT.build_vocab(training_data,\n",
        "                 max_size = MAX_VOCAB_SIZE)\n",
        "\n",
        "LABEL.build_vocab(training_data)"
      ],
      "execution_count": null,
      "outputs": []
    },
    {
      "cell_type": "code",
      "metadata": {
        "id": "v3-txkMY8RBe",
        "colab": {
          "base_uri": "https://localhost:8080/"
        },
        "outputId": "d25323df-6286-4cb7-eece-8aeb2b6088b5"
      },
      "source": [
        "print(LABEL.vocab.stoi)"
      ],
      "execution_count": null,
      "outputs": [
        {
          "output_type": "stream",
          "text": [
            "defaultdict(<function _default_unk_index at 0x7f220fab8bf8>, {'5.0': 0, '4.0': 1, '3.0': 2, '1.0': 3, '2.0': 4})\n"
          ],
          "name": "stdout"
        }
      ]
    },
    {
      "cell_type": "code",
      "metadata": {
        "id": "TL_d6Iht8Srl"
      },
      "source": [
        "BATCH_SIZE = 64\n",
        "\n",
        "# device = torch.device('cuda' if torch.cuda.is_available() else 'cpu')\n",
        "train_data, valid_data = training_data.split(split_ratio=0.8, random_state = random.seed(1234))\n",
        "\n",
        "train_iterator, valid_iterator = data.BucketIterator.splits(\n",
        "    (train_data, valid_data),\n",
        "    sort_key = lambda x: len(x.text),\n",
        "    sort_within_batch=False,\n",
        "    batch_size = BATCH_SIZE\n",
        "    )"
      ],
      "execution_count": null,
      "outputs": []
    },
    {
      "cell_type": "markdown",
      "metadata": {
        "id": "87sRAjgRDvA5"
      },
      "source": [
        "## Model Architecture\n",
        "\n",
        "- [PyTorch Text Classification](https://github.com/bentrevett/pytorch-sentiment-analysis)\n",
        "- Yoon Kim, 2014, Convolutional Neural Networks for Sentence Classification([논문 링크](https://arxiv.org/pdf/1408.5882.pdf))\n",
        "  ![image.png](data:image/png;base64,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)"
      ]
    },
    {
      "cell_type": "code",
      "metadata": {
        "id": "WxD6MGY28VDg"
      },
      "source": [
        "import torch.nn as nn\n",
        "import torch.nn.functional as F\n",
        "\n",
        "class CNN(nn.Module):\n",
        "    def __init__(self, vocab_size, embedding_dim, n_filters, filter_sizes, output_dim,\n",
        "                 dropout, pad_idx):\n",
        "\n",
        "        super().__init__()\n",
        "\n",
        "        self.embedding = nn.Embedding(vocab_size, embedding_dim)\n",
        "\n",
        "        self.convs = nn.ModuleList([\n",
        "                                    nn.Conv2d(in_channels = 1,\n",
        "                                              out_channels = n_filters,\n",
        "                                              kernel_size = (fs, embedding_dim))\n",
        "                                    for fs in filter_sizes\n",
        "                                    ])\n",
        "\n",
        "        self.fc = nn.Linear(len(filter_sizes) * n_filters, output_dim)\n",
        "\n",
        "        self.dropout = nn.Dropout(dropout)\n",
        "\n",
        "    def forward(self, text):\n",
        "\n",
        "        #text = [sent len, batch size]\n",
        "        text = text.permute(1, 0)\n",
        "\n",
        "        #text = [batch size, sent len]\n",
        "\n",
        "        embedded = self.embedding(text)\n",
        "\n",
        "        #embedded = [batch size, sent len, emb dim]\n",
        "\n",
        "        embedded = embedded.unsqueeze(1)\n",
        "\n",
        "        #embedded = [batch size, 1, sent len, emb dim]\n",
        "\n",
        "        conved = [F.relu(conv(embedded)).squeeze(3) for conv in self.convs]\n",
        "\n",
        "        #conv_n = [batch size, n_filters, sent len - filter_sizes[n]]\n",
        "\n",
        "        pooled = [F.max_pool1d(conv, conv.shape[2]).squeeze(2) for conv in conved]\n",
        "\n",
        "        #pooled_n = [batch size, n_filters]\n",
        "\n",
        "        cat = self.dropout(torch.cat(pooled, dim = 1))\n",
        "\n",
        "        #cat = [batch size, n_filters * len(filter_sizes)]\n",
        "\n",
        "        return self.fc(cat)"
      ],
      "execution_count": null,
      "outputs": []
    },
    {
      "cell_type": "code",
      "metadata": {
        "id": "2Xuu2olg8XQb"
      },
      "source": [
        "INPUT_DIM = len(TEXT.vocab)\n",
        "EMBEDDING_DIM = 100\n",
        "N_FILTERS = 100\n",
        "FILTER_SIZES = [2,3,4]\n",
        "OUTPUT_DIM = len(LABEL.vocab)\n",
        "DROPOUT = 0.5\n",
        "PAD_IDX = TEXT.vocab.stoi[TEXT.pad_token]\n",
        "\n",
        "model = CNN(INPUT_DIM, EMBEDDING_DIM, N_FILTERS, FILTER_SIZES, OUTPUT_DIM, DROPOUT, PAD_IDX)"
      ],
      "execution_count": null,
      "outputs": []
    },
    {
      "cell_type": "code",
      "metadata": {
        "id": "jrpaw9qn8ZAn",
        "colab": {
          "base_uri": "https://localhost:8080/"
        },
        "outputId": "ad22ab3b-af71-4194-ccaf-db5c3f5d24db"
      },
      "source": [
        "def count_parameters(model):\n",
        "    return sum(p.numel() for p in model.parameters() if p.requires_grad)\n",
        "\n",
        "print(f'The model has {count_parameters(model):,} trainable parameters')"
      ],
      "execution_count": null,
      "outputs": [
        {
          "output_type": "stream",
          "text": [
            "The model has 1,389,505 trainable parameters\n"
          ],
          "name": "stdout"
        }
      ]
    },
    {
      "cell_type": "code",
      "metadata": {
        "id": "48JAI_NB8b5K"
      },
      "source": [
        "UNK_IDX = TEXT.vocab.stoi[TEXT.unk_token]\n",
        "\n",
        "model.embedding.weight.data[UNK_IDX] = torch.zeros(EMBEDDING_DIM)\n",
        "model.embedding.weight.data[PAD_IDX] = torch.zeros(EMBEDDING_DIM)"
      ],
      "execution_count": null,
      "outputs": []
    },
    {
      "cell_type": "markdown",
      "metadata": {
        "id": "J-MzZPetDzzF"
      },
      "source": [
        "## Train model"
      ]
    },
    {
      "cell_type": "code",
      "metadata": {
        "id": "XeD_OkDU8drd"
      },
      "source": [
        "import torch.optim as optim\n",
        "\n",
        "optimizer = optim.Adam(model.parameters())\n",
        "criterion = nn.CrossEntropyLoss()\n",
        "\n",
        "# model = model.to(device)\n",
        "# criterion = criterion.to(device)"
      ],
      "execution_count": null,
      "outputs": []
    },
    {
      "cell_type": "code",
      "metadata": {
        "id": "mY9XFftc8f2p"
      },
      "source": [
        "def categorical_accuracy(preds, y):\n",
        "    \"\"\"\n",
        "    Returns accuracy per batch, i.e. if you get 8/10 right, this returns 0.8, NOT 8\n",
        "    \"\"\"\n",
        "    max_preds = preds.argmax(dim = 1, keepdim = True) # get the index of the max probability\n",
        "    correct = max_preds.squeeze(1).eq(y)\n",
        "    return correct.sum() / torch.FloatTensor([y.shape[0]])"
      ],
      "execution_count": null,
      "outputs": []
    },
    {
      "cell_type": "code",
      "metadata": {
        "id": "Bhemqq9Q8hkU"
      },
      "source": [
        "def train(model, iterator, optimizer, criterion):\n",
        "\n",
        "    epoch_loss = 0\n",
        "    epoch_acc = 0\n",
        "\n",
        "    model.train()\n",
        "\n",
        "    for batch in iterator:\n",
        "\n",
        "        optimizer.zero_grad()\n",
        "\n",
        "        predictions = model(batch.text)\n",
        "\n",
        "        loss = criterion(predictions, batch.label)\n",
        "\n",
        "        acc = categorical_accuracy(predictions, batch.label)\n",
        "\n",
        "        loss.backward()\n",
        "\n",
        "        optimizer.step()\n",
        "\n",
        "        epoch_loss += loss.item()\n",
        "        epoch_acc += acc.item()\n",
        "\n",
        "    return epoch_loss / len(iterator), epoch_acc / len(iterator)"
      ],
      "execution_count": null,
      "outputs": []
    },
    {
      "cell_type": "code",
      "metadata": {
        "id": "5K1XmH5q8j4U"
      },
      "source": [
        "def evaluate(model, iterator, criterion):\n",
        "\n",
        "    epoch_loss = 0\n",
        "    epoch_acc = 0\n",
        "\n",
        "    model.eval()\n",
        "\n",
        "    with torch.no_grad():\n",
        "\n",
        "        for batch in iterator:\n",
        "\n",
        "            predictions = model(batch.text)\n",
        "\n",
        "            loss = criterion(predictions, batch.label)\n",
        "\n",
        "            acc = categorical_accuracy(predictions, batch.label)\n",
        "\n",
        "            epoch_loss += loss.item()\n",
        "            epoch_acc += acc.item()\n",
        "\n",
        "    return epoch_loss / len(iterator), epoch_acc / len(iterator)"
      ],
      "execution_count": null,
      "outputs": []
    },
    {
      "cell_type": "code",
      "metadata": {
        "id": "M_Q0b_Ar8lsi"
      },
      "source": [
        "import time\n",
        "\n",
        "def epoch_time(start_time, end_time):\n",
        "    elapsed_time = end_time - start_time\n",
        "    elapsed_mins = int(elapsed_time / 60)\n",
        "    elapsed_secs = int(elapsed_time - (elapsed_mins * 60))\n",
        "    return elapsed_mins, elapsed_secs"
      ],
      "execution_count": null,
      "outputs": []
    },
    {
      "cell_type": "code",
      "metadata": {
        "id": "1TpRR8zT8n96",
        "colab": {
          "base_uri": "https://localhost:8080/"
        },
        "outputId": "0b339fdf-d740-408e-9b2e-c7b0dc624c2d"
      },
      "source": [
        "N_EPOCHS = 10\n",
        "\n",
        "best_valid_loss = float('inf')\n",
        "\n",
        "for epoch in range(N_EPOCHS):\n",
        "\n",
        "    start_time = time.time()\n",
        "\n",
        "    train_loss, train_acc = train(model, train_iterator, optimizer, criterion)\n",
        "    valid_loss, valid_acc = evaluate(model, valid_iterator, criterion)\n",
        "\n",
        "    end_time = time.time()\n",
        "\n",
        "    epoch_mins, epoch_secs = epoch_time(start_time, end_time)\n",
        "\n",
        "    if valid_loss < best_valid_loss:\n",
        "        best_valid_loss = valid_loss\n",
        "        torch.save(model.state_dict(), 'cnn-model.pt')\n",
        "\n",
        "    print(f'Epoch: {epoch+1:02} | Epoch Time: {epoch_mins}m {epoch_secs}s')\n",
        "    print(f'\\tTrain Loss: {train_loss:.3f} | Train Acc: {train_acc*100:.2f}%')\n",
        "    print(f'\\t Val. Loss: {valid_loss:.3f} |  Val. Acc: {valid_acc*100:.2f}%')"
      ],
      "execution_count": null,
      "outputs": [
        {
          "output_type": "stream",
          "text": [
            "Epoch: 01 | Epoch Time: 0m 10s\n",
            "\tTrain Loss: 1.502 | Train Acc: 38.91%\n",
            "\t Val. Loss: 1.337 |  Val. Acc: 43.71%\n",
            "Epoch: 02 | Epoch Time: 0m 10s\n",
            "\tTrain Loss: 1.336 | Train Acc: 45.34%\n",
            "\t Val. Loss: 1.304 |  Val. Acc: 43.49%\n",
            "Epoch: 03 | Epoch Time: 0m 10s\n",
            "\tTrain Loss: 1.269 | Train Acc: 47.89%\n",
            "\t Val. Loss: 1.295 |  Val. Acc: 44.79%\n",
            "Epoch: 04 | Epoch Time: 0m 10s\n",
            "\tTrain Loss: 1.194 | Train Acc: 51.14%\n",
            "\t Val. Loss: 1.237 |  Val. Acc: 47.02%\n",
            "Epoch: 05 | Epoch Time: 0m 10s\n",
            "\tTrain Loss: 1.135 | Train Acc: 54.15%\n",
            "\t Val. Loss: 1.227 |  Val. Acc: 48.44%\n",
            "Epoch: 06 | Epoch Time: 0m 9s\n",
            "\tTrain Loss: 1.065 | Train Acc: 57.61%\n",
            "\t Val. Loss: 1.206 |  Val. Acc: 50.55%\n",
            "Epoch: 07 | Epoch Time: 0m 10s\n",
            "\tTrain Loss: 1.002 | Train Acc: 59.90%\n",
            "\t Val. Loss: 1.172 |  Val. Acc: 51.09%\n",
            "Epoch: 08 | Epoch Time: 0m 10s\n",
            "\tTrain Loss: 0.927 | Train Acc: 63.62%\n",
            "\t Val. Loss: 1.170 |  Val. Acc: 51.30%\n",
            "Epoch: 09 | Epoch Time: 0m 10s\n",
            "\tTrain Loss: 0.831 | Train Acc: 67.84%\n",
            "\t Val. Loss: 1.183 |  Val. Acc: 50.25%\n",
            "Epoch: 10 | Epoch Time: 0m 9s\n",
            "\tTrain Loss: 0.755 | Train Acc: 70.69%\n",
            "\t Val. Loss: 1.192 |  Val. Acc: 50.99%\n"
          ],
          "name": "stdout"
        }
      ]
    },
    {
      "cell_type": "markdown",
      "metadata": {
        "id": "SSorMDNKD2l4"
      },
      "source": [
        "## Evaluate model"
      ]
    },
    {
      "cell_type": "code",
      "metadata": {
        "id": "gYKBXQLx_CLP"
      },
      "source": [
        "model.load_state_dict(torch.load('cnn-model.pt'))\n",
        "\n",
        "import spacy\n",
        "nlp = spacy.load('en')\n",
        "\n",
        "def predict_class(model, sentence, min_len = 4):\n",
        "    model.eval()\n",
        "    tokenized = [tok.text for tok in nlp.tokenizer(sentence)]\n",
        "    if len(tokenized) < min_len:\n",
        "        tokenized += ['<pad>'] * (min_len - len(tokenized))\n",
        "    indexed = [TEXT.vocab.stoi[t] for t in tokenized]\n",
        "    tensor = torch.LongTensor(indexed)\n",
        "    tensor = tensor.unsqueeze(1)\n",
        "    preds = model(tensor)\n",
        "    max_preds = preds.argmax(dim = 1)\n",
        "    return max_preds.item()"
      ],
      "execution_count": null,
      "outputs": []
    },
    {
      "cell_type": "code",
      "metadata": {
        "id": "k9OAxOpCD9rP",
        "colab": {
          "base_uri": "https://localhost:8080/"
        },
        "outputId": "3a1c95ac-6e57-4acf-d79f-a35eafb12c5d"
      },
      "source": [
        "pred_class = predict_class(model, \"best item\")\n",
        "print(f'Predicted class is: {pred_class} = {LABEL.vocab.itos[pred_class]}')"
      ],
      "execution_count": null,
      "outputs": [
        {
          "output_type": "stream",
          "text": [
            "Predicted class is: 0 = 5.0\n"
          ],
          "name": "stdout"
        }
      ]
    },
    {
      "cell_type": "code",
      "metadata": {
        "id": "C-naClzU_F9S",
        "colab": {
          "base_uri": "https://localhost:8080/"
        },
        "outputId": "a82b1936-fd32-439d-a26c-ea142b0e2e24"
      },
      "source": [
        "pred_class = predict_class(model, \"worst item\")\n",
        "print(f'Predicted class is: {pred_class} = {LABEL.vocab.itos[pred_class]}')"
      ],
      "execution_count": null,
      "outputs": [
        {
          "output_type": "stream",
          "text": [
            "Predicted class is: 3 = 1.0\n"
          ],
          "name": "stdout"
        }
      ]
    },
    {
      "cell_type": "code",
      "metadata": {
        "colab": {
          "base_uri": "https://localhost:8080/"
        },
        "id": "IzGXy4eiZqle",
        "outputId": "4532ff0c-f4c3-46ca-9d02-bf3ccd4a891c"
      },
      "source": [
        "pred_class = predict_class(model, \"it was best item, but requires to be fixed\")\n",
        "print(f'Predicted class is: {pred_class} = {LABEL.vocab.itos[pred_class]}')"
      ],
      "execution_count": null,
      "outputs": [
        {
          "output_type": "stream",
          "text": [
            "Predicted class is: 0 = 5.0\n"
          ],
          "name": "stdout"
        }
      ]
    },
    {
      "cell_type": "markdown",
      "metadata": {
        "id": "sDpbBLlmEiBT"
      },
      "source": [
        "## (참고) BERT Embedding 가져오기\n",
        "1. word2vec\n",
        "2. [fastText](https://fasttext.cc/)\n",
        "3. [Glove](https://nlp.stanford.edu/projects/glove/)\n",
        "4. Huggingface 참고([링크](https://huggingface.co/transformers/pretrained_models.html))\n"
      ]
    },
    {
      "cell_type": "code",
      "metadata": {
        "id": "TyFn81ySaIWt"
      },
      "source": [
        "# embedding + meta vector -> 512dim + 100dim -> 612 dim\n",
        "# rating 1,2,3,4,5 -> prediction = 3 (40%)"
      ],
      "execution_count": null,
      "outputs": []
    },
    {
      "cell_type": "markdown",
      "metadata": {
        "id": "JqXAay56aH5R"
      },
      "source": []
    },
    {
      "cell_type": "code",
      "metadata": {
        "colab": {
          "base_uri": "https://localhost:8080/"
        },
        "id": "ADTiVkmfFAgv",
        "outputId": "02ccaf8c-e9da-4ce5-b980-01878ec07781"
      },
      "source": [
        "!pip install transformers"
      ],
      "execution_count": null,
      "outputs": [
        {
          "output_type": "stream",
          "text": [
            "Collecting transformers\n",
            "\u001b[?25l  Downloading https://files.pythonhosted.org/packages/cd/40/866cbfac4601e0f74c7303d533a9c5d4a53858bd402e08e3e294dd271f25/transformers-4.2.1-py3-none-any.whl (1.8MB)\n",
            "\u001b[K     |████████████████████████████████| 1.8MB 7.6MB/s \n",
            "\u001b[?25hRequirement already satisfied: requests in /usr/local/lib/python3.6/dist-packages (from transformers) (2.23.0)\n",
            "Requirement already satisfied: numpy in /usr/local/lib/python3.6/dist-packages (from transformers) (1.19.5)\n",
            "Requirement already satisfied: regex!=2019.12.17 in /usr/local/lib/python3.6/dist-packages (from transformers) (2019.12.20)\n",
            "Requirement already satisfied: importlib-metadata; python_version < \"3.8\" in /usr/local/lib/python3.6/dist-packages (from transformers) (3.3.0)\n",
            "Collecting tokenizers==0.9.4\n",
            "\u001b[?25l  Downloading https://files.pythonhosted.org/packages/0f/1c/e789a8b12e28be5bc1ce2156cf87cb522b379be9cadc7ad8091a4cc107c4/tokenizers-0.9.4-cp36-cp36m-manylinux2010_x86_64.whl (2.9MB)\n",
            "\u001b[K     |████████████████████████████████| 2.9MB 15.4MB/s \n",
            "\u001b[?25hRequirement already satisfied: packaging in /usr/local/lib/python3.6/dist-packages (from transformers) (20.8)\n",
            "Requirement already satisfied: tqdm>=4.27 in /usr/local/lib/python3.6/dist-packages (from transformers) (4.41.1)\n",
            "Requirement already satisfied: dataclasses; python_version < \"3.7\" in /usr/local/lib/python3.6/dist-packages (from transformers) (0.8)\n",
            "Requirement already satisfied: filelock in /usr/local/lib/python3.6/dist-packages (from transformers) (3.0.12)\n",
            "Collecting sacremoses\n",
            "\u001b[?25l  Downloading https://files.pythonhosted.org/packages/7d/34/09d19aff26edcc8eb2a01bed8e98f13a1537005d31e95233fd48216eed10/sacremoses-0.0.43.tar.gz (883kB)\n",
            "\u001b[K     |████████████████████████████████| 890kB 63.8MB/s \n",
            "\u001b[?25hRequirement already satisfied: certifi>=2017.4.17 in /usr/local/lib/python3.6/dist-packages (from requests->transformers) (2020.12.5)\n",
            "Requirement already satisfied: chardet<4,>=3.0.2 in /usr/local/lib/python3.6/dist-packages (from requests->transformers) (3.0.4)\n",
            "Requirement already satisfied: urllib3!=1.25.0,!=1.25.1,<1.26,>=1.21.1 in /usr/local/lib/python3.6/dist-packages (from requests->transformers) (1.24.3)\n",
            "Requirement already satisfied: idna<3,>=2.5 in /usr/local/lib/python3.6/dist-packages (from requests->transformers) (2.10)\n",
            "Requirement already satisfied: zipp>=0.5 in /usr/local/lib/python3.6/dist-packages (from importlib-metadata; python_version < \"3.8\"->transformers) (3.4.0)\n",
            "Requirement already satisfied: typing-extensions>=3.6.4; python_version < \"3.8\" in /usr/local/lib/python3.6/dist-packages (from importlib-metadata; python_version < \"3.8\"->transformers) (3.7.4.3)\n",
            "Requirement already satisfied: pyparsing>=2.0.2 in /usr/local/lib/python3.6/dist-packages (from packaging->transformers) (2.4.7)\n",
            "Requirement already satisfied: six in /usr/local/lib/python3.6/dist-packages (from sacremoses->transformers) (1.15.0)\n",
            "Requirement already satisfied: click in /usr/local/lib/python3.6/dist-packages (from sacremoses->transformers) (7.1.2)\n",
            "Requirement already satisfied: joblib in /usr/local/lib/python3.6/dist-packages (from sacremoses->transformers) (1.0.0)\n",
            "Building wheels for collected packages: sacremoses\n",
            "  Building wheel for sacremoses (setup.py) ... \u001b[?25l\u001b[?25hdone\n",
            "  Created wheel for sacremoses: filename=sacremoses-0.0.43-cp36-none-any.whl size=893261 sha256=7ec5c5d0f9c2ad76957646cf56c5fe036b367efbb67defeb67056fba0e966a64\n",
            "  Stored in directory: /root/.cache/pip/wheels/29/3c/fd/7ce5c3f0666dab31a50123635e6fb5e19ceb42ce38d4e58f45\n",
            "Successfully built sacremoses\n",
            "Installing collected packages: tokenizers, sacremoses, transformers\n",
            "Successfully installed sacremoses-0.0.43 tokenizers-0.9.4 transformers-4.2.1\n"
          ],
          "name": "stdout"
        }
      ]
    },
    {
      "cell_type": "code",
      "metadata": {
        "colab": {
          "base_uri": "https://localhost:8080/"
        },
        "id": "x3OtW519FLwf",
        "outputId": "9583f00b-6d82-4ccd-e25f-046a7b9a7511"
      },
      "source": [
        "import nltk\n",
        "nltk.download('punkt')"
      ],
      "execution_count": null,
      "outputs": [
        {
          "output_type": "stream",
          "text": [
            "[nltk_data] Downloading package punkt to /root/nltk_data...\n",
            "[nltk_data]   Unzipping tokenizers/punkt.zip.\n"
          ],
          "name": "stdout"
        },
        {
          "output_type": "execute_result",
          "data": {
            "text/plain": [
              "True"
            ]
          },
          "metadata": {
            "tags": []
          },
          "execution_count": 47
        }
      ]
    },
    {
      "cell_type": "code",
      "metadata": {
        "id": "wThV9_qk_IeD",
        "colab": {
          "base_uri": "https://localhost:8080/",
          "height": 163,
          "referenced_widgets": [
            "dd40fdcf91d24cf59a3af36f94915a59",
            "c2790c6f2ccd4963b5cca6b1bfcdf891",
            "841f412a9edc4d51a183a624a4f729c6",
            "233bbbf8d267438e8ca34a1d847b5579",
            "5db0364c9d70466dbe03ed8aa5684437",
            "79c8d93ba3614442a8d61993046bb935",
            "69ad6ff36e364232a6dc02259bf9b1cf",
            "348fad07be744d189cbe9fab1dec0e7d",
            "d3b2713ff8d64fca918daea5febf8b01",
            "eab69f15e3d643ea9ea62b13369e0c5b",
            "1a352759c125431bbba4147bd24176f7",
            "b104d2965f2147ae9554d0a54de7eb64",
            "8248c79eace143a595d46631024cc932",
            "b998b0dc4e0d4e2c91aef0f31887c181",
            "3beb4727f6d4492697cd7481dd3677e7",
            "13c8ca08965746419732297beb030ce1",
            "ed2ab086f56e49b79c2369c3d497f227",
            "342e1670470f4026a88948e3faa847fa",
            "a413a4ff180b4bb6832d4e9a19145c61",
            "0743ce0b964e48f68caf73681177154d",
            "bcc723d67f6d4e3d8eb3b5090d7e6b3e",
            "ea14ac5977fd435dbc5fcd7a17604cbb",
            "b53ebf30ab194ba8bdb95af0fe913428",
            "da2b4cf8c2c84b32a2aa1ebf844a83e8"
          ]
        },
        "outputId": "43e3461a-0d73-4755-ea11-4b69a950b0ee"
      },
      "source": [
        "import re\n",
        "import warnings\n",
        "\n",
        "import numpy as np\n",
        "import torch\n",
        "from nltk import tokenize\n",
        "from transformers import BertModel, BertTokenizer\n",
        "\n",
        "warnings.filterwarnings(\"ignore\")\n",
        "\n",
        "tokenizer = BertTokenizer.from_pretrained('bert-base-uncased')\n",
        "model = BertModel.from_pretrained('bert-base-uncased')\n",
        "\n",
        "def get_embedding(sentence):\n",
        "    sent_vectors = []\n",
        "    for sent in tokenize.sent_tokenize(sentence):\n",
        "        text = \"[CLS] \" + sent + \" [SEP]\"\n",
        "        tokenized_text = tokenizer.tokenize(text)\n",
        "        indexed_tokens = tokenizer.convert_tokens_to_ids(tokenized_text)\n",
        "        segments_ids = [1] * len(tokenized_text)\n",
        "\n",
        "        tokens_tensor = torch.tensor([indexed_tokens])\n",
        "        segments_tensor = torch.tensor([segments_ids])\n",
        "\n",
        "        with torch.no_grad():\n",
        "            outputs = model(tokens_tensor, segments_tensor)\n",
        "            encoded_layers = outputs[0] # last hidden state\n",
        "            sentence_embedding = torch.mean(encoded_layers[0], dim=0)\n",
        "            sent_vectors.append(sentence_embedding.detach().numpy())\n",
        "\n",
        "    return np.array(sent_vectors).mean(axis=0)\n"
      ],
      "execution_count": null,
      "outputs": [
        {
          "output_type": "display_data",
          "data": {
            "application/vnd.jupyter.widget-view+json": {
              "model_id": "dd40fdcf91d24cf59a3af36f94915a59",
              "version_minor": 0,
              "version_major": 2
            },
            "text/plain": [
              "HBox(children=(FloatProgress(value=0.0, description='Downloading', max=231508.0, style=ProgressStyle(descripti…"
            ]
          },
          "metadata": {
            "tags": []
          }
        },
        {
          "output_type": "stream",
          "text": [
            "\n"
          ],
          "name": "stdout"
        },
        {
          "output_type": "display_data",
          "data": {
            "application/vnd.jupyter.widget-view+json": {
              "model_id": "d3b2713ff8d64fca918daea5febf8b01",
              "version_minor": 0,
              "version_major": 2
            },
            "text/plain": [
              "HBox(children=(FloatProgress(value=0.0, description='Downloading', max=433.0, style=ProgressStyle(description_…"
            ]
          },
          "metadata": {
            "tags": []
          }
        },
        {
          "output_type": "stream",
          "text": [
            "\n"
          ],
          "name": "stdout"
        },
        {
          "output_type": "display_data",
          "data": {
            "application/vnd.jupyter.widget-view+json": {
              "model_id": "ed2ab086f56e49b79c2369c3d497f227",
              "version_minor": 0,
              "version_major": 2
            },
            "text/plain": [
              "HBox(children=(FloatProgress(value=0.0, description='Downloading', max=440473133.0, style=ProgressStyle(descri…"
            ]
          },
          "metadata": {
            "tags": []
          }
        },
        {
          "output_type": "stream",
          "text": [
            "\n"
          ],
          "name": "stdout"
        }
      ]
    },
    {
      "cell_type": "code",
      "metadata": {
        "id": "sWPRM4QiE7oN"
      },
      "source": [
        "bert_embedding = get_embedding('hello, today is thursday')"
      ],
      "execution_count": null,
      "outputs": []
    },
    {
      "cell_type": "code",
      "metadata": {
        "colab": {
          "base_uri": "https://localhost:8080/"
        },
        "id": "NQoKAfz8FIp9",
        "outputId": "413ad273-c84b-445b-d699-7b0575eba9b9"
      },
      "source": [
        "len(bert_embedding)"
      ],
      "execution_count": null,
      "outputs": [
        {
          "output_type": "execute_result",
          "data": {
            "text/plain": [
              "768"
            ]
          },
          "metadata": {
            "tags": []
          },
          "execution_count": 51
        }
      ]
    },
    {
      "cell_type": "code",
      "metadata": {
        "id": "rBs-ToFTa2st"
      },
      "source": [],
      "execution_count": null,
      "outputs": []
    }
  ]
}